{
  "nbformat": 4,
  "nbformat_minor": 0,
  "metadata": {
    "colab": {
      "provenance": [],
      "include_colab_link": true
    },
    "kernelspec": {
      "name": "python3",
      "display_name": "Python 3"
    },
    "language_info": {
      "name": "python"
    },
    "widgets": {
      "application/vnd.jupyter.widget-state+json": {
        "7ae375054ba641bb835ed99d6fcc928d": {
          "model_module": "@jupyter-widgets/controls",
          "model_name": "TextModel",
          "model_module_version": "1.5.0",
          "state": {
            "_dom_classes": [],
            "_model_module": "@jupyter-widgets/controls",
            "_model_module_version": "1.5.0",
            "_model_name": "TextModel",
            "_view_count": null,
            "_view_module": "@jupyter-widgets/controls",
            "_view_module_version": "1.5.0",
            "_view_name": "TextView",
            "continuous_update": true,
            "description": "Input Sequence:",
            "description_tooltip": null,
            "disabled": false,
            "layout": "IPY_MODEL_01270fc6168c4f96a7aca306f7a67ed6",
            "placeholder": "​",
            "style": "IPY_MODEL_994ae08da825454abf47ebcd763365aa",
            "value": "3, 1, 6, 5, 2, 4"
          }
        },
        "01270fc6168c4f96a7aca306f7a67ed6": {
          "model_module": "@jupyter-widgets/base",
          "model_name": "LayoutModel",
          "model_module_version": "1.2.0",
          "state": {
            "_model_module": "@jupyter-widgets/base",
            "_model_module_version": "1.2.0",
            "_model_name": "LayoutModel",
            "_view_count": null,
            "_view_module": "@jupyter-widgets/base",
            "_view_module_version": "1.2.0",
            "_view_name": "LayoutView",
            "align_content": null,
            "align_items": null,
            "align_self": null,
            "border": null,
            "bottom": null,
            "display": null,
            "flex": null,
            "flex_flow": null,
            "grid_area": null,
            "grid_auto_columns": null,
            "grid_auto_flow": null,
            "grid_auto_rows": null,
            "grid_column": null,
            "grid_gap": null,
            "grid_row": null,
            "grid_template_areas": null,
            "grid_template_columns": null,
            "grid_template_rows": null,
            "height": null,
            "justify_content": null,
            "justify_items": null,
            "left": null,
            "margin": null,
            "max_height": null,
            "max_width": null,
            "min_height": null,
            "min_width": null,
            "object_fit": null,
            "object_position": null,
            "order": null,
            "overflow": null,
            "overflow_x": null,
            "overflow_y": null,
            "padding": null,
            "right": null,
            "top": null,
            "visibility": null,
            "width": null
          }
        },
        "994ae08da825454abf47ebcd763365aa": {
          "model_module": "@jupyter-widgets/controls",
          "model_name": "DescriptionStyleModel",
          "model_module_version": "1.5.0",
          "state": {
            "_model_module": "@jupyter-widgets/controls",
            "_model_module_version": "1.5.0",
            "_model_name": "DescriptionStyleModel",
            "_view_count": null,
            "_view_module": "@jupyter-widgets/base",
            "_view_module_version": "1.2.0",
            "_view_name": "StyleView",
            "description_width": "initial"
          }
        },
        "62fa3e28abe942bca7319aa750f2a2fb": {
          "model_module": "@jupyter-widgets/controls",
          "model_name": "ButtonModel",
          "model_module_version": "1.5.0",
          "state": {
            "_dom_classes": [],
            "_model_module": "@jupyter-widgets/controls",
            "_model_module_version": "1.5.0",
            "_model_name": "ButtonModel",
            "_view_count": null,
            "_view_module": "@jupyter-widgets/controls",
            "_view_module_version": "1.5.0",
            "_view_name": "ButtonView",
            "button_style": "",
            "description": "Perform Heapsort",
            "disabled": false,
            "icon": "",
            "layout": "IPY_MODEL_b87732e697ee47f382ecbd9533ebbbaa",
            "style": "IPY_MODEL_95b10c7013cf4edcb5ec7404b157013a",
            "tooltip": ""
          }
        },
        "b87732e697ee47f382ecbd9533ebbbaa": {
          "model_module": "@jupyter-widgets/base",
          "model_name": "LayoutModel",
          "model_module_version": "1.2.0",
          "state": {
            "_model_module": "@jupyter-widgets/base",
            "_model_module_version": "1.2.0",
            "_model_name": "LayoutModel",
            "_view_count": null,
            "_view_module": "@jupyter-widgets/base",
            "_view_module_version": "1.2.0",
            "_view_name": "LayoutView",
            "align_content": null,
            "align_items": null,
            "align_self": null,
            "border": null,
            "bottom": null,
            "display": null,
            "flex": null,
            "flex_flow": null,
            "grid_area": null,
            "grid_auto_columns": null,
            "grid_auto_flow": null,
            "grid_auto_rows": null,
            "grid_column": null,
            "grid_gap": null,
            "grid_row": null,
            "grid_template_areas": null,
            "grid_template_columns": null,
            "grid_template_rows": null,
            "height": null,
            "justify_content": null,
            "justify_items": null,
            "left": null,
            "margin": null,
            "max_height": null,
            "max_width": null,
            "min_height": null,
            "min_width": null,
            "object_fit": null,
            "object_position": null,
            "order": null,
            "overflow": null,
            "overflow_x": null,
            "overflow_y": null,
            "padding": null,
            "right": null,
            "top": null,
            "visibility": null,
            "width": null
          }
        },
        "95b10c7013cf4edcb5ec7404b157013a": {
          "model_module": "@jupyter-widgets/controls",
          "model_name": "ButtonStyleModel",
          "model_module_version": "1.5.0",
          "state": {
            "_model_module": "@jupyter-widgets/controls",
            "_model_module_version": "1.5.0",
            "_model_name": "ButtonStyleModel",
            "_view_count": null,
            "_view_module": "@jupyter-widgets/base",
            "_view_module_version": "1.2.0",
            "_view_name": "StyleView",
            "button_color": null,
            "font_weight": ""
          }
        }
      }
    }
  },
  "cells": [
    {
      "cell_type": "markdown",
      "metadata": {
        "id": "view-in-github",
        "colab_type": "text"
      },
      "source": [
        "<a href=\"https://colab.research.google.com/github/Ainmimdal/DSA/blob/main/Runtime_PerformHeapsort.ipynb\" target=\"_parent\"><img src=\"https://colab.research.google.com/assets/colab-badge.svg\" alt=\"Open In Colab\"/></a>"
      ]
    },
    {
      "cell_type": "code",
      "source": [
        "import ipywidgets as widgets\n",
        "import matplotlib.pyplot as plt\n",
        "import numpy as np\n",
        "\n",
        "# Min-Heapify function\n",
        "def min_heapify(arr, n, i):\n",
        "    smallest = i\n",
        "    left = 2 * i + 1\n",
        "    right = 2 * i + 2\n",
        "\n",
        "    if left < n and arr[left] < arr[smallest]:\n",
        "        smallest = left\n",
        "    if right < n and arr[right] < arr[smallest]:\n",
        "        smallest = right\n",
        "    if smallest != i:\n",
        "        arr[i], arr[smallest] = arr[smallest], arr[i]\n",
        "        min_heapify(arr, n, smallest)\n",
        "\n",
        "# Build min-heap from input list\n",
        "def build_min_heap(arr):\n",
        "    n = len(arr)\n",
        "    for i in range(n // 2 - 1, -1, -1):\n",
        "        min_heapify(arr, n, i)\n",
        "\n",
        "# HeapSort function\n",
        "def heap_sort(arr):\n",
        "    n = len(arr)\n",
        "    build_min_heap(arr)  # First build the min-heap\n",
        "    for i in range(n - 1, 0, -1):\n",
        "        arr[0], arr[i] = arr[i], arr[0]  # Swap the root(min element) with the last element\n",
        "        min_heapify(arr, i, 0)  # Min-heapify the reduced heap\n",
        "    arr.reverse()\n",
        "\n",
        "# Function to visualize the binary tree (heap)\n",
        "def plot_heap(heap):\n",
        "    fig, ax = plt.subplots(figsize=(10, 6))\n",
        "    ax.axis('off')\n",
        "\n",
        "    if not heap:\n",
        "        ax.text(0.5, 0.5, 'Heap is empty', horizontalalignment='center', verticalalignment='center', fontsize=12)\n",
        "        plt.show()\n",
        "        return\n",
        "\n",
        "    def plot_node(ax, position, value, level, index, width=10):\n",
        "        ax.text(position[0], position[1], str(value), horizontalalignment='center', verticalalignment='center', fontsize=12, color='white', bbox=dict(facecolor='blue', edgecolor='black', boxstyle=\"circle,pad=0.3\"))\n",
        "        if 2*index+1 < len(heap):  # Left child\n",
        "            left_pos = (position[0] - width / 2, position[1] - 1)\n",
        "            ax.plot([position[0], left_pos[0]], [position[1], left_pos[1]], 'k-', lw=2)\n",
        "            plot_node(ax, left_pos, heap[2*index+1], level+1, 2*index+1, width / 2)\n",
        "        if 2*index+2 < len(heap):  # Right child\n",
        "            right_pos = (position[0] + width / 2, position[1] - 1)\n",
        "            ax.plot([position[0], right_pos[0]], [position[1], right_pos[1]], 'k-', lw=2)\n",
        "            plot_node(ax, right_pos, heap[2*index+2], level+1, 2*index+2, width / 2)\n",
        "\n",
        "    plot_node(ax, (0.5, 0), heap[0], 0, 0, width=10)\n",
        "    plt.show()\n",
        "\n",
        "# Displaying Members' Names and Matric Numbers\n",
        "def display_members():\n",
        "    members = [\n",
        "        (\"Imad\", \"2127923\"),\n",
        "        (\"Hakimi\", \"2213091\"),\n",
        "        (\"Member 3\", \"Matric 3\"),\n",
        "        (\"Member 4\", \"Matric 4\"),\n",
        "        # Add more members as needed\n",
        "    ]\n",
        "    print(\"\\nMembers' Names and Matric Numbers:\")\n",
        "    for member in members:\n",
        "        print(f\"Name: {member[0]}, {member[1]}\")\n",
        "\n",
        "# GUI Function to perform heapsort\n",
        "def heapsort_gui(input_sequence):\n",
        "    try:\n",
        "        # Parse input sequence\n",
        "        arr = list(map(int, input_sequence.split(',')))\n",
        "    except ValueError:\n",
        "        print(\"Please enter a valid list of integers separated by commas.\")\n",
        "        return\n",
        "\n",
        "    # Show the binary tree representation of the min-heap\n",
        "    print(\"Min-Heap before Heapsort:\")\n",
        "    heap = arr.copy()\n",
        "    build_min_heap(heap)  # Create the min-heap from input sequence\n",
        "    plot_heap(heap)  # Visualize the heap as a binary tree\n",
        "\n",
        "    # Perform heapsort\n",
        "    heap_sort(arr)\n",
        "    print(f\"Sorted array (ascending): {arr}\")\n",
        "\n",
        "    # Display members' names and matric numbers after sorting\n",
        "    display_members()\n",
        "\n",
        "# Interactive widget\n",
        "input_box = widgets.Text(value='3, 1, 6, 5, 2, 4', description='Input Sequence:', style={'description_width': 'initial'})\n",
        "button = widgets.Button(description=\"Perform Heapsort\")\n",
        "button.on_click(lambda x: heapsort_gui(input_box.value))\n",
        "\n",
        "display(input_box, button)\n"
      ],
      "metadata": {
        "id": "nYvRVl39-2TJ",
        "outputId": "917d46e9-5079-4386-a234-df16a79bc31e",
        "colab": {
          "base_uri": "https://localhost:8080/",
          "height": 702,
          "referenced_widgets": [
            "7ae375054ba641bb835ed99d6fcc928d",
            "01270fc6168c4f96a7aca306f7a67ed6",
            "994ae08da825454abf47ebcd763365aa",
            "62fa3e28abe942bca7319aa750f2a2fb",
            "b87732e697ee47f382ecbd9533ebbbaa",
            "95b10c7013cf4edcb5ec7404b157013a"
          ]
        }
      },
      "execution_count": 2,
      "outputs": [
        {
          "output_type": "display_data",
          "data": {
            "text/plain": [
              "Text(value='3, 1, 6, 5, 2, 4', description='Input Sequence:', style=DescriptionStyle(description_width='initia…"
            ],
            "application/vnd.jupyter.widget-view+json": {
              "version_major": 2,
              "version_minor": 0,
              "model_id": "7ae375054ba641bb835ed99d6fcc928d"
            }
          },
          "metadata": {}
        },
        {
          "output_type": "display_data",
          "data": {
            "text/plain": [
              "Button(description='Perform Heapsort', style=ButtonStyle())"
            ],
            "application/vnd.jupyter.widget-view+json": {
              "version_major": 2,
              "version_minor": 0,
              "model_id": "62fa3e28abe942bca7319aa750f2a2fb"
            }
          },
          "metadata": {}
        },
        {
          "output_type": "stream",
          "name": "stdout",
          "text": [
            "Min-Heap before Heapsort:\n"
          ]
        },
        {
          "output_type": "display_data",
          "data": {
            "text/plain": [
              "<Figure size 1000x600 with 1 Axes>"
            ],
            "image/png": "[encoded data removed]"
          },
          "metadata": {}
        },
        {
          "output_type": "stream",
          "name": "stdout",
          "text": [
            "Sorted array (ascending): [1, 2, 3, 4, 5, 6]\n",
            "\n",
            "Members' Names and Matric Numbers:\n",
            "Name: Member 1, Matric 1\n",
            "Name: Member 2, Matric 2\n",
            "Name: Member 3, Matric 3\n",
            "Name: Member 4, Matric 4\n"
          ]
        }
      ]
    },
    {
      "cell_type": "markdown",
      "source": [
        "| Line Number | Original Code (Error)  | Rectified Code | Explanation |\n",
        "|---|---|---|---|\n",
        "| 10 | if left < n and arr[left] > arr[smallest]: | if left < n and arr[left] < arr[smallest]: | Corrected comparison for min-heap (left child should be smaller than root). |\n",
        "| 12 | if right < n and arr[right] > arr[smallest]: | if right < n and arr[right] < arr[smallest]: | Corrected comparison for min-heap (right child should be smaller than root). |\n",
        "| 24 | - | Added arr.reverse() at the end of heap_sort. | Reverses the array to produce ascending order after sorting. |"
      ],
      "metadata": {
        "id": "PDPiaNfQqunC"
      }
    }
  ]
}