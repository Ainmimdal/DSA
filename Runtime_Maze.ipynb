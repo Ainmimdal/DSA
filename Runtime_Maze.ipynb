{
  "nbformat": 4,
  "nbformat_minor": 0,
  "metadata": {
    "colab": {
      "provenance": [],
      "include_colab_link": true
    },
    "kernelspec": {
      "name": "python3",
      "display_name": "Python 3"
    },
    "language_info": {
      "name": "python"
    }
  },
  "cells": [
    {
      "cell_type": "markdown",
      "metadata": {
        "id": "view-in-github",
        "colab_type": "text"
      },
      "source": [
        "<a href=\"https://colab.research.google.com/github/Ainmimdal/DSA/blob/main/Runtime_Maze.ipynb\" target=\"_parent\"><img src=\"https://colab.research.google.com/assets/colab-badge.svg\" alt=\"Open In Colab\"/></a>"
      ]
    },
    {
      "cell_type": "code",
      "execution_count": 9,
      "metadata": {
        "id": "Qa5qLp5XURDz",
        "outputId": "f63a8a2e-5dd2-4fbf-9725-6835963c0a1c",
        "colab": {
          "base_uri": "https://localhost:8080/",
          "height": 1000
        }
      },
      "outputs": [
        {
          "output_type": "display_data",
          "data": {
            "text/plain": [
              "<Figure size 800x800 with 1 Axes>"
            ],
            "image/png": "[encoded data removed]"
          },
          "metadata": {}
        },
        {
          "output_type": "error",
          "ename": "KeyboardInterrupt",
          "evalue": "Interrupted by user",
          "traceback": [
            "\u001b[0;31m---------------------------------------------------------------------------\u001b[0m",
            "\u001b[0;31mKeyboardInterrupt\u001b[0m                         Traceback (most recent call last)",
            "\u001b[0;32m<ipython-input-9-cab799a0cab3>\u001b[0m in \u001b[0;36m<cell line: 0>\u001b[0;34m()\u001b[0m\n\u001b[1;32m     98\u001b[0m \u001b[0mvisualize_maze\u001b[0m\u001b[0;34m(\u001b[0m\u001b[0mmaze\u001b[0m\u001b[0;34m)\u001b[0m\u001b[0;34m\u001b[0m\u001b[0;34m\u001b[0m\u001b[0m\n\u001b[1;32m     99\u001b[0m \u001b[0;31m# Prompt the user for the starting and ending points\u001b[0m\u001b[0;34m\u001b[0m\u001b[0;34m\u001b[0m\u001b[0m\n\u001b[0;32m--> 100\u001b[0;31m \u001b[0mstart_row\u001b[0m \u001b[0;34m=\u001b[0m \u001b[0mint\u001b[0m\u001b[0;34m(\u001b[0m\u001b[0minput\u001b[0m\u001b[0;34m(\u001b[0m\u001b[0;34m\"Enter the start row (0-12): \"\u001b[0m\u001b[0;34m)\u001b[0m\u001b[0;34m)\u001b[0m\u001b[0;34m\u001b[0m\u001b[0;34m\u001b[0m\u001b[0m\n\u001b[0m\u001b[1;32m    101\u001b[0m \u001b[0mstart_col\u001b[0m \u001b[0;34m=\u001b[0m \u001b[0mint\u001b[0m\u001b[0;34m(\u001b[0m\u001b[0minput\u001b[0m\u001b[0;34m(\u001b[0m\u001b[0;34m\"Enter the start column (0-12): \"\u001b[0m\u001b[0;34m)\u001b[0m\u001b[0;34m)\u001b[0m\u001b[0;34m\u001b[0m\u001b[0;34m\u001b[0m\u001b[0m\n\u001b[1;32m    102\u001b[0m \u001b[0mend_row\u001b[0m \u001b[0;34m=\u001b[0m \u001b[0mint\u001b[0m\u001b[0;34m(\u001b[0m\u001b[0minput\u001b[0m\u001b[0;34m(\u001b[0m\u001b[0;34m\"Enter the end row (0-12): \"\u001b[0m\u001b[0;34m)\u001b[0m\u001b[0;34m)\u001b[0m\u001b[0;34m\u001b[0m\u001b[0;34m\u001b[0m\u001b[0m\n",
            "\u001b[0;32m/usr/local/lib/python3.11/dist-packages/ipykernel/kernelbase.py\u001b[0m in \u001b[0;36mraw_input\u001b[0;34m(self, prompt)\u001b[0m\n\u001b[1;32m    849\u001b[0m                 \u001b[0;34m\"raw_input was called, but this frontend does not support input requests.\"\u001b[0m\u001b[0;34m\u001b[0m\u001b[0;34m\u001b[0m\u001b[0m\n\u001b[1;32m    850\u001b[0m             )\n\u001b[0;32m--> 851\u001b[0;31m         return self._input_request(str(prompt),\n\u001b[0m\u001b[1;32m    852\u001b[0m             \u001b[0mself\u001b[0m\u001b[0;34m.\u001b[0m\u001b[0m_parent_ident\u001b[0m\u001b[0;34m,\u001b[0m\u001b[0;34m\u001b[0m\u001b[0;34m\u001b[0m\u001b[0m\n\u001b[1;32m    853\u001b[0m             \u001b[0mself\u001b[0m\u001b[0;34m.\u001b[0m\u001b[0m_parent_header\u001b[0m\u001b[0;34m,\u001b[0m\u001b[0;34m\u001b[0m\u001b[0;34m\u001b[0m\u001b[0m\n",
            "\u001b[0;32m/usr/local/lib/python3.11/dist-packages/ipykernel/kernelbase.py\u001b[0m in \u001b[0;36m_input_request\u001b[0;34m(self, prompt, ident, parent, password)\u001b[0m\n\u001b[1;32m    893\u001b[0m             \u001b[0;32mexcept\u001b[0m \u001b[0mKeyboardInterrupt\u001b[0m\u001b[0;34m:\u001b[0m\u001b[0;34m\u001b[0m\u001b[0;34m\u001b[0m\u001b[0m\n\u001b[1;32m    894\u001b[0m                 \u001b[0;31m# re-raise KeyboardInterrupt, to truncate traceback\u001b[0m\u001b[0;34m\u001b[0m\u001b[0;34m\u001b[0m\u001b[0m\n\u001b[0;32m--> 895\u001b[0;31m                 \u001b[0;32mraise\u001b[0m \u001b[0mKeyboardInterrupt\u001b[0m\u001b[0;34m(\u001b[0m\u001b[0;34m\"Interrupted by user\"\u001b[0m\u001b[0;34m)\u001b[0m \u001b[0;32mfrom\u001b[0m \u001b[0;32mNone\u001b[0m\u001b[0;34m\u001b[0m\u001b[0;34m\u001b[0m\u001b[0m\n\u001b[0m\u001b[1;32m    896\u001b[0m             \u001b[0;32mexcept\u001b[0m \u001b[0mException\u001b[0m \u001b[0;32mas\u001b[0m \u001b[0me\u001b[0m\u001b[0;34m:\u001b[0m\u001b[0;34m\u001b[0m\u001b[0;34m\u001b[0m\u001b[0m\n\u001b[1;32m    897\u001b[0m                 \u001b[0mself\u001b[0m\u001b[0;34m.\u001b[0m\u001b[0mlog\u001b[0m\u001b[0;34m.\u001b[0m\u001b[0mwarning\u001b[0m\u001b[0;34m(\u001b[0m\u001b[0;34m\"Invalid Message:\"\u001b[0m\u001b[0;34m,\u001b[0m \u001b[0mexc_info\u001b[0m\u001b[0;34m=\u001b[0m\u001b[0;32mTrue\u001b[0m\u001b[0;34m)\u001b[0m\u001b[0;34m\u001b[0m\u001b[0;34m\u001b[0m\u001b[0m\n",
            "\u001b[0;31mKeyboardInterrupt\u001b[0m: Interrupted by user"
          ]
        }
      ],
      "source": [
        "import matplotlib.pyplot as plt\n",
        "import numpy as np\n",
        "from collections import deque\n",
        "\n",
        "# Directions for moving up, down, left, right\n",
        "directions = [(-1, 0), (1, 0), (0, -1), (0, 1)]\n",
        "\n",
        "def is_valid_move(maze, x, y, visited):\n",
        "    \"\"\"Check if the move is within bounds and not a wall or visited.\"\"\"\n",
        "    rows, cols = len(maze), len(maze[0])\n",
        "    return 0 <= x < rows and 0 <= y < cols and maze[x][y] == 0 and (x, y) not in visited\n",
        "\n",
        "def find_exits(maze):\n",
        "    \"\"\"Find all possible exits in the maze (border open spaces).\"\"\"\n",
        "    exits = []\n",
        "    rows, cols = len(maze), len(maze[0])\n",
        "\n",
        "    # Check top and bottom rows\n",
        "    for col in range(cols):\n",
        "        if maze[0][col] == 0:  # Top row\n",
        "            exits.append((0, col))\n",
        "        if maze[rows-1][col] == 0:  # Bottom row\n",
        "            exits.append((rows-1, col))\n",
        "\n",
        "    # Check left and right columns\n",
        "    for row in range(rows):\n",
        "        if maze[row][0] == 0:  # Left column\n",
        "            exits.append((row, 0))\n",
        "        if maze[row][cols-1] == 0:  # Right column\n",
        "            exits.append((row, cols-1))\n",
        "\n",
        "    return exits\n",
        "\n",
        "def bfs(maze, start, end):\n",
        "    \"\"\"Find the shortest path using BFS.\"\"\"\n",
        "    rows, cols = len(maze), len(maze[0])\n",
        "\n",
        "    # Queue for BFS and visited set\n",
        "    queue = deque([(start, [start])])  # Store (current_position, path_to_here)\n",
        "    visited = set()\n",
        "    visited.add(start)\n",
        "\n",
        "    while queue:\n",
        "        (x, y), path = queue.popleft()\n",
        "\n",
        "        # If the target is reached, return the path\n",
        "        if (x, y) == end:\n",
        "            return path\n",
        "\n",
        "        # Explore all four possible directions\n",
        "        for dx, dy in directions:\n",
        "            nx, ny = x + dx, y + dy\n",
        "            if is_valid_move(maze, nx, ny, visited):\n",
        "                visited.add((nx, ny))\n",
        "                queue.append(((nx, ny), path + [(nx, ny)]))\n",
        "\n",
        "    return None  # No path found\n",
        "\n",
        "def visualize_maze(maze, path=None):\n",
        "    \"\"\"Visualize the maze with the path (if found).\"\"\"\n",
        "    maze_array = np.array(maze)\n",
        "    fig, ax = plt.subplots(figsize=(8, 8))\n",
        "\n",
        "    # Plot the maze\n",
        "    ax.imshow(maze_array, cmap='binary', interpolation='nearest')\n",
        "\n",
        "    # If a path is found, plot the path\n",
        "    if path:\n",
        "        path_x, path_y = zip(*path)  # Separate x and y coordinates\n",
        "        ax.plot(path_y, path_x, color='red', linewidth=2, marker='o', markersize=5)\n",
        "\n",
        "    # Add grid\n",
        "    ax.set_xticks(np.arange(-0.5, maze_array.shape[1], 1), minor=True)\n",
        "    ax.set_yticks(np.arange(-0.5, maze_array.shape[0], 1), minor=True)\n",
        "    ax.grid(which='minor', color='black', linestyle='-', linewidth=2)\n",
        "\n",
        "    ax.set_title(\"Maze Visualization with Path\")\n",
        "    plt.gca().invert_yaxis()  # To match the row/column convention of maze\n",
        "    plt.show(block=False)\n",
        "\n",
        "# Example maze (0: open path, 1: wall) for a 13x13 grid\n",
        "maze = [\n",
        "    [1, 1, 1, 1, 1, 0, 1, 1, 1, 1, 0, 1, 1],\n",
        "    [1, 1, 0, 1, 0, 1, 1, 0, 0, 1, 0, 1, 1],\n",
        "    [1, 1, 0, 0, 0, 0, 0, 0, 1, 1, 1, 0, 1],\n",
        "    [0, 0, 0, 1, 1, 1, 0, 1, 1, 0, 0, 0, 0],\n",
        "    [1, 1, 0, 0, 1, 1, 0, 1, 0, 0, 1, 0, 1],\n",
        "    [1, 1, 0, 0, 1, 0, 0, 0, 0, 1, 0, 0, 1],\n",
        "    [1, 1, 0, 1, 1, 1, 1, 0, 0, 1, 0, 1, 1],\n",
        "    [1, 1, 0, 0, 0, 0, 1, 0, 1, 0, 0, 0, 1],\n",
        "    [1, 1, 0, 1, 0, 1, 0, 1, 0, 1, 0, 1, 1],\n",
        "    [1, 0, 0, 1, 0, 0, 0, 0, 1, 0, 0, 0, 1],\n",
        "    [1, 1, 0, 1, 0, 1, 0, 1, 0, 1, 1, 1, 1],\n",
        "    [1, 1, 0, 0, 0, 1, 0, 0, 0, 0, 1, 0, 0],\n",
        "    [0, 0, 0, 0, 0, 1, 0, 1, 1, 0, 0, 0, 1],\n",
        "    [1, 1, 1, 1, 1, 1, 0, 1, 1, 1, 1, 1, 1]\n",
        "]\n",
        "visualize_maze(maze)\n",
        "# Prompt the user for the starting and ending points\n",
        "start_row = int(input(\"Enter the start row (0-12): \"))\n",
        "start_col = int(input(\"Enter the start column (0-12): \"))\n",
        "end_row = int(input(\"Enter the end row (0-12): \"))\n",
        "end_col = int(input(\"Enter the end column (0-12): \"))\n",
        "\n",
        "start = (start_row, start_col)  # Start position (row, col)\n",
        "end = (end_row, end_col)        # End position (row, col)\n",
        "\n",
        "# Ensure start and end points are valid (0 is an open path)\n",
        "if maze[start_row][start_col] == 1 or maze[end_row][end_col] == 1:\n",
        "    print(\"Invalid start or end point. They must be on open paths (0).\")\n",
        "else:\n",
        "    # Find the shortest path\n",
        "    path = bfs(maze, start, end)\n",
        "\n",
        "    if path:\n",
        "        print(\"Path found:\", path)\n",
        "    else:\n",
        "        print(\"No path found.\")\n",
        "\n",
        "    # Visualize the maze and path\n",
        "    visualize_maze(maze, path)"
      ]
    }
  ]
}